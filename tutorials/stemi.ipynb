{
 "cells": [
  {
   "cell_type": "code",
   "execution_count": 51,
   "metadata": {},
   "outputs": [
    {
     "name": "stdout",
     "output_type": "stream",
     "text": [
      "The autoreload extension is already loaded. To reload it, use:\n",
      "  %reload_ext autoreload\n"
     ]
    }
   ],
   "source": [
    "%load_ext autoreload\n",
    "%autoreload 2\n",
    "%matplotlib inline\n",
    "\n",
    "import os\n",
    "import copy\n",
    "import pickle\n",
    "import numpy as np\n",
    "import pandas as pd\n",
    "from matplotlib import cm\n",
    "import matplotlib.patches as mpatches\n",
    "import matplotlib.pyplot as plt\n",
    "import aplusml\n",
    "import stemi\n",
    "from typing import List, Optional, Dict\n",
    "\n",
    "# Workflows\n",
    "PATH_TO_YAML: str = '../workflows/stemi.yaml'\n",
    "PATH_TO_PATIENT_PROPERTIES: str = '../ignore/secure/stemi/stemi.csv'"
   ]
  },
  {
   "cell_type": "code",
   "execution_count": null,
   "metadata": {},
   "outputs": [],
   "source": [
    "simulation: aplusml.Simulation = aplusml.load_simulation(PATH_TO_YAML, PATH_TO_PATIENT_PROPERTIES)\n",
    "simulation.draw_workflow_diagram(figsize=(50,50), path_to_file='../workflows/visualizations/STEMI Workflow.pdf')"
   ]
  },
  {
   "attachments": {},
   "cell_type": "markdown",
   "metadata": {},
   "source": [
    "# Load Patients + Model Predictions\n",
    "\n",
    "First, we'll load the CSV containing our patients from `stemi.csv`.\n",
    "\n",
    "Next, we initialize a `Patient` object for each row of our CSV, and store these objects in a list called `all_patients`.\n",
    "\n",
    "Finally, we add each patient's properties to their `Patient` object."
   ]
  },
  {
   "cell_type": "code",
   "execution_count": 41,
   "metadata": {},
   "outputs": [
    {
     "data": {
      "text/plain": [
       "'Shape of df_patients: (279132, 6)'"
      ]
     },
     "execution_count": 41,
     "metadata": {},
     "output_type": "execute_result"
    }
   ],
   "source": [
    "df_patients = pd.read_csv(PATH_TO_PATIENT_PROPERTIES)\n",
    "# Note: `threshold` is the same for all patients -- If model pred >= threshold, ACS is predicted\n",
    "threshold = df_patients['Probability threshold below which ACS is predicted (same for all rows)'].iloc[0]\n",
    "# Drop columns\n",
    "df_patients.drop(df_patients.columns[0], axis=1, inplace=True)\n",
    "df_patients.drop(columns=['Patient_Enc_CNS_ID', \n",
    "                          'MRN', \n",
    "                          'Probability threshold below which ACS is predicted (same for all rows)', \n",
    "                          '1 = ACS predicted;  0 = ACS not predicted',\n",
    "                          'ECG_within10min',\n",
    "                          'ECG1_DTS',], \n",
    "                 inplace=True)\n",
    "df_patients.rename({ 'Predicted probability of having ACS (using model D)' : 'y_hat', \n",
    "                    'finaldx' : 'y',\n",
    "                    'ArrivalDTS' : 'start', }, axis=1, inplace=True)\n",
    "df_patients['start'] = pd.to_datetime(df_patients['start'], format='%m/%d/%y %H:%M')\n",
    "\n",
    "# Only count \"STEMI\" event as positive event\n",
    "df_patients['is_stemi'] = df_patients['y'] == 'STEMI'\n",
    "\n",
    "# Assume nurse screening is always accurate\n",
    "df_patients['is_screen_positive'] = df_patients['is_stemi']\n",
    "\n",
    "# If no ECG is done, set waiting time to 0\n",
    "df_patients['ArrivalDTStoECG1_min'] = df_patients['ArrivalDTStoECG1_min'].fillna(0)\n",
    "\n",
    "f\"Shape of df_patients: {df_patients.shape}\""
   ]
  },
  {
   "cell_type": "code",
   "execution_count": 42,
   "metadata": {},
   "outputs": [
    {
     "data": {
      "text/html": [
       "<div>\n",
       "<style scoped>\n",
       "    .dataframe tbody tr th:only-of-type {\n",
       "        vertical-align: middle;\n",
       "    }\n",
       "\n",
       "    .dataframe tbody tr th {\n",
       "        vertical-align: top;\n",
       "    }\n",
       "\n",
       "    .dataframe thead th {\n",
       "        text-align: right;\n",
       "    }\n",
       "</style>\n",
       "<table border=\"1\" class=\"dataframe\">\n",
       "  <thead>\n",
       "    <tr style=\"text-align: right;\">\n",
       "      <th></th>\n",
       "      <th>start</th>\n",
       "      <th>ArrivalDTStoECG1_min</th>\n",
       "      <th>y</th>\n",
       "      <th>y_hat</th>\n",
       "      <th>is_stemi</th>\n",
       "      <th>is_screen_positive</th>\n",
       "    </tr>\n",
       "  </thead>\n",
       "  <tbody>\n",
       "    <tr>\n",
       "      <th>0</th>\n",
       "      <td>2015-01-01 00:01:00</td>\n",
       "      <td>2.0</td>\n",
       "      <td>OTHER</td>\n",
       "      <td>0.007169</td>\n",
       "      <td>False</td>\n",
       "      <td>False</td>\n",
       "    </tr>\n",
       "    <tr>\n",
       "      <th>1</th>\n",
       "      <td>2015-01-01 00:13:00</td>\n",
       "      <td>106.0</td>\n",
       "      <td>OTHER</td>\n",
       "      <td>0.002135</td>\n",
       "      <td>False</td>\n",
       "      <td>False</td>\n",
       "    </tr>\n",
       "    <tr>\n",
       "      <th>2</th>\n",
       "      <td>2015-01-01 00:19:00</td>\n",
       "      <td>0.0</td>\n",
       "      <td>OTHER</td>\n",
       "      <td>0.000644</td>\n",
       "      <td>False</td>\n",
       "      <td>False</td>\n",
       "    </tr>\n",
       "    <tr>\n",
       "      <th>3</th>\n",
       "      <td>2015-01-01 00:32:00</td>\n",
       "      <td>6.0</td>\n",
       "      <td>OTHER</td>\n",
       "      <td>0.009935</td>\n",
       "      <td>False</td>\n",
       "      <td>False</td>\n",
       "    </tr>\n",
       "    <tr>\n",
       "      <th>4</th>\n",
       "      <td>2015-01-01 00:53:00</td>\n",
       "      <td>2.0</td>\n",
       "      <td>OTHER</td>\n",
       "      <td>0.013334</td>\n",
       "      <td>False</td>\n",
       "      <td>False</td>\n",
       "    </tr>\n",
       "    <tr>\n",
       "      <th>...</th>\n",
       "      <td>...</td>\n",
       "      <td>...</td>\n",
       "      <td>...</td>\n",
       "      <td>...</td>\n",
       "      <td>...</td>\n",
       "      <td>...</td>\n",
       "    </tr>\n",
       "    <tr>\n",
       "      <th>279127</th>\n",
       "      <td>2019-12-31 23:11:00</td>\n",
       "      <td>16.0</td>\n",
       "      <td>OTHER</td>\n",
       "      <td>0.006552</td>\n",
       "      <td>False</td>\n",
       "      <td>False</td>\n",
       "    </tr>\n",
       "    <tr>\n",
       "      <th>279128</th>\n",
       "      <td>2019-12-31 23:12:00</td>\n",
       "      <td>0.0</td>\n",
       "      <td>OTHER</td>\n",
       "      <td>0.000270</td>\n",
       "      <td>False</td>\n",
       "      <td>False</td>\n",
       "    </tr>\n",
       "    <tr>\n",
       "      <th>279129</th>\n",
       "      <td>2019-12-31 23:40:00</td>\n",
       "      <td>0.0</td>\n",
       "      <td>OTHER</td>\n",
       "      <td>0.001635</td>\n",
       "      <td>False</td>\n",
       "      <td>False</td>\n",
       "    </tr>\n",
       "    <tr>\n",
       "      <th>279130</th>\n",
       "      <td>2019-12-31 23:47:00</td>\n",
       "      <td>0.0</td>\n",
       "      <td>OTHER</td>\n",
       "      <td>0.005075</td>\n",
       "      <td>False</td>\n",
       "      <td>False</td>\n",
       "    </tr>\n",
       "    <tr>\n",
       "      <th>279131</th>\n",
       "      <td>2019-12-31 23:51:00</td>\n",
       "      <td>0.0</td>\n",
       "      <td>OTHER</td>\n",
       "      <td>0.002965</td>\n",
       "      <td>False</td>\n",
       "      <td>False</td>\n",
       "    </tr>\n",
       "  </tbody>\n",
       "</table>\n",
       "<p>279132 rows × 6 columns</p>\n",
       "</div>"
      ],
      "text/plain": [
       "                     start  ArrivalDTStoECG1_min      y     y_hat  is_stemi  \\\n",
       "0      2015-01-01 00:01:00                   2.0  OTHER  0.007169     False   \n",
       "1      2015-01-01 00:13:00                 106.0  OTHER  0.002135     False   \n",
       "2      2015-01-01 00:19:00                   0.0  OTHER  0.000644     False   \n",
       "3      2015-01-01 00:32:00                   6.0  OTHER  0.009935     False   \n",
       "4      2015-01-01 00:53:00                   2.0  OTHER  0.013334     False   \n",
       "...                    ...                   ...    ...       ...       ...   \n",
       "279127 2019-12-31 23:11:00                  16.0  OTHER  0.006552     False   \n",
       "279128 2019-12-31 23:12:00                   0.0  OTHER  0.000270     False   \n",
       "279129 2019-12-31 23:40:00                   0.0  OTHER  0.001635     False   \n",
       "279130 2019-12-31 23:47:00                   0.0  OTHER  0.005075     False   \n",
       "279131 2019-12-31 23:51:00                   0.0  OTHER  0.002965     False   \n",
       "\n",
       "        is_screen_positive  \n",
       "0                    False  \n",
       "1                    False  \n",
       "2                    False  \n",
       "3                    False  \n",
       "4                    False  \n",
       "...                    ...  \n",
       "279127               False  \n",
       "279128               False  \n",
       "279129               False  \n",
       "279130               False  \n",
       "279131               False  \n",
       "\n",
       "[279132 rows x 6 columns]"
      ]
     },
     "execution_count": 42,
     "metadata": {},
     "output_type": "execute_result"
    }
   ],
   "source": [
    "df_patients"
   ]
  },
  {
   "cell_type": "code",
   "execution_count": 43,
   "metadata": {},
   "outputs": [
    {
     "name": "stdout",
     "output_type": "stream",
     "text": [
      "OTHER      4703\n",
      "NSTEMI       18\n",
      "STEMI         2\n",
      "UANGINA       1\n",
      "Name: y, dtype: int64\n",
      "OTHER     1259\n",
      "NSTEMI       7\n",
      "STEMI        1\n",
      "Name: y, dtype: int64\n",
      "OTHER      277735\n",
      "NSTEMI        978\n",
      "STEMI         225\n",
      "UANGINA       194\n",
      "Name: y, dtype: int64\n"
     ]
    }
   ],
   "source": [
    "# Get one month's worth of patients\n",
    "df_week = df_patients[(pd.to_datetime('2019-12-31').date() >= df_patients['start'].dt.date) & (df_patients['start'].dt.date >= pd.to_datetime('2019-12-24').date())].copy()\n",
    "df_month = df_patients[(pd.to_datetime('2019-12-31').date() >= df_patients['start'].dt.date) & (df_patients['start'].dt.date >= pd.to_datetime('2019-12-01').date())].copy()\n",
    "print(df_month['y'].value_counts())\n",
    "print(df_week['y'].value_counts())\n",
    "print(df_patients['y'].value_counts())"
   ]
  },
  {
   "cell_type": "code",
   "execution_count": 44,
   "metadata": {},
   "outputs": [
    {
     "name": "stdout",
     "output_type": "stream",
     "text": [
      "stemi_target: 2791 out of 279132 rows\n"
     ]
    }
   ],
   "source": [
    "# Enforce a specific prevalence of PAD\n",
    "PREVALENCE: float = 0.01 # enforce a specific prevalence of PAD\n",
    "\n",
    "# calc target number of positives rows\n",
    "stemi_target = int(df_patients.shape[0] * PREVALENCE)\n",
    "print(f\"stemi_target: {stemi_target} out of {df_patients.shape[0]} rows\")\n",
    "\n",
    "# Upsample positive rows\n",
    "df_resampled = pd.concat([\n",
    "    df_patients[df_patients['y'] == 'STEMI'].sample(n=stemi_target, replace=True),\n",
    "    df_patients.drop(df_patients[df_patients['y'] != 'STEMI'].sample(n=stemi_target).index),\n",
    "], axis=0)\n",
    "\n",
    "# Write df_patients to .csv\n",
    "df_patients.to_csv('../ignore/secure/stemi/stemi_new.csv', index=False)\n",
    "df_resampled.to_csv(f'../ignore/secure/stemi/stemi_new_prevalence_{PREVALENCE}.csv', index=False)"
   ]
  },
  {
   "cell_type": "code",
   "execution_count": 46,
   "metadata": {},
   "outputs": [
    {
     "data": {
      "text/plain": [
       "{'y': 'OTHER',\n",
       " 'y_hat': 0.003554497,\n",
       " 'is_stemi': False,\n",
       " 'ArrivalDTStoECG1_min': 4.0,\n",
       " 'is_screen_positive': False}"
      ]
     },
     "execution_count": 46,
     "metadata": {},
     "output_type": "execute_result"
    }
   ],
   "source": [
    "simulation.metadata['path_to_properties'] = f'../ignore/secure/stemi/stemi_new_prevalence_{PREVALENCE}.csv'\n",
    "MEAN_ED_VISITS_PER_DAY: int = 170\n",
    "NUM_DAYS: int = 100\n",
    "all_patients = stemi.generate_patient_list(simulation, mean_admits_per_day=MEAN_ED_VISITS_PER_DAY, num_days=NUM_DAYS)\n",
    "all_patients[0].properties"
   ]
  },
  {
   "cell_type": "code",
   "execution_count": 50,
   "metadata": {},
   "outputs": [
    {
     "name": "stdout",
     "output_type": "stream",
     "text": [
      "prevalence: 0.009683098591549295 | total patients: 17040\n"
     ]
    }
   ],
   "source": [
    "# confirm prevalence\n",
    "prevalence = 0\n",
    "for x in all_patients:\n",
    "    if x.properties['is_stemi']:\n",
    "        prevalence += 1\n",
    "prevalence /= len(all_patients)\n",
    "print(f\"prevalence: {prevalence} | total patients: {len(all_patients)}\")"
   ]
  },
  {
   "attachments": {},
   "cell_type": "markdown",
   "metadata": {},
   "source": [
    "# Capacity Analysis: Physician who interprets ECG"
   ]
  },
  {
   "cell_type": "code",
   "execution_count": 52,
   "metadata": {},
   "outputs": [],
   "source": [
    "THRESHOLDS = [ 0, 0.001, 0.002, 0.003, 0.004065758, 0.005, 0.01, 0.1,]\n",
    "MODELS = [ 'dl', ]\n",
    "PATH_TO_OUTPUT_FOLDER = '../ignore/secure/stemi/output'\n",
    "os.makedirs(PATH_TO_OUTPUT_FOLDER, exist_ok=True)"
   ]
  },
  {
   "cell_type": "code",
   "execution_count": 53,
   "metadata": {},
   "outputs": [],
   "source": [
    "def show_ribbon_plots(model_2_result, label_sort_order, label_title):\n",
    "    p1 = aplusml.plot.plot_mean_utility_v_threshold('Deep Learning', model_2_result['dl'],\n",
    "                                                    label_sort_order=label_sort_order,\n",
    "                                                    label_title=label_title)\n",
    "    print(p1)\n",
    "\n",
    "def show_dodged_bar_mean_utility_plot(title: str, df_, label_sort_order, label_title, is_percent_of_optimistic):\n",
    "    p = aplusml.plot.plot_dodged_bar_mean_utilities(title,\n",
    "                                                    df_,\n",
    "                                                    label_sort_order=label_sort_order,\n",
    "                                                    color_sort_order=[\n",
    "                                                        'none', 'all', 'dl', \n",
    "                                                    ],\n",
    "                                                    color_names=[\n",
    "                                                        'Treat\\nNone', 'Deep\\nLearning'\n",
    "                                                    ],\n",
    "                                                    is_percent_of_optimistic=is_percent_of_optimistic,\n",
    "                                                    x_label=label_title)\n",
    "    print(p)\n",
    "\n",
    "def show_line_mean_utility_plot(title: str, df_, label_sort_order, label_title, is_percent_of_optimistic):\n",
    "    df_['group'] = df_['color']\n",
    "    p = aplusml.plot.plot_line_mean_utilities(title,\n",
    "                                                df_,\n",
    "                                                group_sort_order=None,\n",
    "                                                shape_sort_order=None,\n",
    "                                                color_title='',\n",
    "                                                shape_title='',\n",
    "                                                label_sort_order=label_sort_order,\n",
    "                                                groups_to_drop=['none', ],\n",
    "                                                color_sort_order=['all', 'dl', ],\n",
    "                                                color_names=[\n",
    "                                                    'Treat\\nAll', 'Deep\\nLearning'\n",
    "                                                ],\n",
    "                                                is_percent_of_optimistic=is_percent_of_optimistic,\n",
    "                                                x_label=label_title)\n",
    "\n",
    "    print(p)\n",
    "\n",
    "def show_plots(title, model_2_result, df_, label_sort_order, label_title,\n",
    "                is_show_ribbon_plot: bool = True,\n",
    "                is_show_dodged_bar_plot: bool = True,\n",
    "                is_show_line_plot: bool = True): \n",
    "    \n",
    "    # Ribbon plot\n",
    "    if is_show_ribbon_plot:\n",
    "        show_ribbon_plots(model_2_result, label_sort_order, label_title)\n",
    "\n",
    "    # Dodged bar mean utility plot\n",
    "    if is_show_dodged_bar_plot:\n",
    "        show_dodged_bar_mean_utility_plot(title, df_, label_sort_order, label_title, is_percent_of_optimistic=1)\n",
    "    \n",
    "    # Line mean utility plot\n",
    "    if is_show_line_plot:\n",
    "        show_line_mean_utility_plot(title, df_, label_sort_order, label_title, is_percent_of_optimistic=1)\n"
   ]
  },
  {
   "cell_type": "code",
   "execution_count": null,
   "metadata": {},
   "outputs": [],
   "source": [
    "def generate_pkl_path(intro: str, patients: List[aplusml.Patient], values: list) -> str:\n",
    "    pkl_name: str = (intro +\n",
    "                     \"-\".join([str(x) for x in values]) + \"_\" +\n",
    "                     str(len(patients)) + \"_\" +\n",
    "                     \".pkl\")\n",
    "    pkl_path: str = os.path.join(PATH_TO_OUTPUT_FOLDER, pkl_name)\n",
    "    os.makedirs(os.path.dirname(pkl_path), exist_ok=True)\n",
    "    return pkl_path\n",
    "\n",
    "def load_cached_pkl(pkl_path: str):\n",
    "    with open(pkl_path, 'rb') as fd:\n",
    "        results = pickle.load(fd)\n",
    "    model_2_result, baseline_2_result = results['model'], results['baseline']\n",
    "    return model_2_result, baseline_2_result\n",
    "\n",
    "def generate_results(intro: str, patients: List[aplusml.Patient], values: list):\n",
    "    pkl_path: str = generate_pkl_path(intro, patients, values)\n",
    "    if os.path.exists(pkl_path):\n",
    "        print(f\"Loading file from {pkl_path}\")\n",
    "        model_2_result, baseline_2_result = load_cached_pkl(pkl_path)\n",
    "    else:\n",
    "        print(f\"Didn't find {pkl_path}, recreating from scratch\")\n",
    "        labels = [f\"{x}\" for x in values]\n",
    "        model_2_result, baseline_2_result = stemi.run_test(patients,\n",
    "                                                         labels,\n",
    "                                                         MODELS,\n",
    "                                                         THRESHOLDS,\n",
    "                                                         PATH_TO_PATIENT_PROPERTIES)\n",
    "        with open(pkl_path, 'wb') as fd:\n",
    "            pickle.dump({\n",
    "                'model': model_2_result,\n",
    "                'baseline': baseline_2_result,\n",
    "            }, fd)\n",
    "    return model_2_result, baseline_2_result\n",
    "\n",
    "def simulate_workflow(patients: List[aplusml.Patient],\n",
    "                            values: list,\n",
    "                            path_to_yaml: str = None,\n",
    "                            is_show_ribbon_plot: bool = True,\n",
    "                            is_show_dodged_bar_plot: bool = True,\n",
    "                            is_show_line_plot: bool = True):\n",
    "    values += [ 1e5, ] # 1e5 represents the optimistic case\n",
    "    \n",
    "    model_2_result, baseline_2_result = generate_results('nurse_', patients, values, path_to_yaml)\n",
    "\n",
    "    # Plotting constants\n",
    "    df_ = stemi.plot_helper(model_2_result, {\n",
    "        'all': baseline_2_result['all'],\n",
    "        'none': baseline_2_result['none']\n",
    "    }).rename(columns={'model': 'color'})\n",
    "    # Use 1e5 as the 'optimistic' case for nurse capacity\n",
    "    df_ = df_[df_['label'] != 'optimistic']\n",
    "    df_.loc[df_['label'] == '100000.0', 'label'] = 'optimistic'\n",
    "    label_sort_order: List[str] = [ str(x) for x in df_['label'].unique() ]\n",
    "    label_title: str = 'Nurse Capacity'\n",
    "\n",
    "    for m in MODELS:\n",
    "        model_2_result[m] = model_2_result[m][model_2_result[m]['label'] != 'optimistic']\n",
    "        model_2_result[m].loc[model_2_result[m]['label'] == '100000.0', 'label'] = 'optimistic'\n",
    "        \n",
    "    title = f'Utility of STEMI workflow'\n",
    "    show_plots(title, model_2_result, df_, label_sort_order, label_title,\n",
    "                is_show_ribbon_plot = is_show_ribbon_plot,\n",
    "                is_show_dodged_bar_plot = is_show_dodged_bar_plot,\n",
    "                is_show_line_plot = is_show_line_plot)\n",
    "    "
   ]
  },
  {
   "cell_type": "code",
   "execution_count": null,
   "metadata": {},
   "outputs": [],
   "source": [
    "values = [0, 1, 2, 3, ]\n",
    "simulate_workflow(copy.deepcopy(all_patients),\n",
    "                        values,\n",
    "                        path_to_yaml=PATH_TO_YAML,\n",
    "                        is_show_dodged_bar_plot=True)"
   ]
  }
 ],
 "metadata": {
  "kernelspec": {
   "display_name": "Python 3 (ipykernel)",
   "language": "python",
   "name": "python3"
  },
  "language_info": {
   "codemirror_mode": {
    "name": "ipython",
    "version": 3
   },
   "file_extension": ".py",
   "mimetype": "text/x-python",
   "name": "python",
   "nbconvert_exporter": "python",
   "pygments_lexer": "ipython3",
   "version": "3.10.10"
  },
  "orig_nbformat": 4,
  "vscode": {
   "interpreter": {
    "hash": "31f2aee4e71d21fbe5cf8b01ff0e069b9275f58929596ceb00d14d90e3e16cd6"
   }
  }
 },
 "nbformat": 4,
 "nbformat_minor": 2
}
